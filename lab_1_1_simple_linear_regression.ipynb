{
  "nbformat": 4,
  "nbformat_minor": 0,
  "metadata": {
    "colab": {
      "private_outputs": true,
      "provenance": [],
      "authorship_tag": "ABX9TyPkecWEFNFMZ/KgsCat95FJ",
      "include_colab_link": true
    },
    "kernelspec": {
      "name": "python3",
      "display_name": "Python 3"
    },
    "language_info": {
      "name": "python"
    }
  },
  "cells": [
    {
      "cell_type": "markdown",
      "metadata": {
        "id": "view-in-github",
        "colab_type": "text"
      },
      "source": [
        "<a href=\"https://colab.research.google.com/github/boomboom-98/MMC/blob/main/lab_1_1_simple_linear_regression.ipynb\" target=\"_parent\"><img src=\"https://colab.research.google.com/assets/colab-badge.svg\" alt=\"Open In Colab\"/></a>"
      ]
    },
    {
      "cell_type": "code",
      "execution_count": null,
      "metadata": {
        "id": "WigdlKimFL7R"
      },
      "outputs": [],
      "source": []
    },
    {
      "cell_type": "markdown",
      "source": [
        "# Hồi Quy Tuyến Tính đơn giản\n",
        "* Sử dụng thư viện scikit-learn để triển khai Hồi Quy Tuyến Tính Đơn Giản\n",
        "* Tạo một mô hình, huấn luyện, kiểm tra và sử dụng mô hình"
      ],
      "metadata": {
        "id": "55VZqpVCFYJZ"
      }
    },
    {
      "cell_type": "code",
      "source": [],
      "metadata": {
        "id": "JxI0D75kkRI-"
      },
      "execution_count": null,
      "outputs": []
    },
    {
      "cell_type": "code",
      "source": [
        "import matplotlib.pyplot as plt\n",
        "import pandas as pd\n",
        "import pylab as pl\n",
        "import numpy as np\n",
        "%matplotlib inline"
      ],
      "metadata": {
        "id": "x2GawcYLFqg1"
      },
      "execution_count": null,
      "outputs": []
    },
    {
      "cell_type": "code",
      "source": [
        "# Đọc dữ liệu đầu vào\n",
        "df = pd.read_csv(\"FuelConsumption.csv\")\n",
        "df.head()"
      ],
      "metadata": {
        "id": "CEA6Fi8sF6WP"
      },
      "execution_count": null,
      "outputs": []
    },
    {
      "cell_type": "code",
      "source": [
        "# Tóm tắt dữ liệu\n",
        "df.describe()"
      ],
      "metadata": {
        "id": "gIjOgEq1kR2E"
      },
      "execution_count": null,
      "outputs": []
    },
    {
      "cell_type": "code",
      "source": [
        "cdf = df[['ENGINESIZE','CYLINDERS','FUELCONSUMPTION_COMB','CO2EMISSIONS']]\n",
        "cdf.head(9)"
      ],
      "metadata": {
        "id": "p5l4Fogtk2Io"
      },
      "execution_count": null,
      "outputs": []
    },
    {
      "cell_type": "code",
      "source": [
        "viz = cdf[['CYLINDERS','ENGINESIZE','CO2EMISSIONS','FUELCONSUMPTION_COMB']]\n",
        "viz.hist()\n",
        "plt.show()"
      ],
      "metadata": {
        "id": "iv8dycyjlMSJ"
      },
      "execution_count": null,
      "outputs": []
    },
    {
      "cell_type": "code",
      "source": [
        "# Vẽ biểu đồ của từng đặc trưng này với giá trị phát thải, xem chúng có mối quan hệ tuyến tính như thế nào\n",
        "plt.scatter(cdf.FUELCONSUMPTION_COMB, cdf.CO2EMISSIONS, color = 'blue')\n",
        "plt.xlabel(\"FUELCONSUMPTION_COMB\")\n",
        "plt.ylabel(\"CO2EMISSION\")\n",
        "plt.show()"
      ],
      "metadata": {
        "id": "lxjy24l2ln0W"
      },
      "execution_count": null,
      "outputs": []
    },
    {
      "cell_type": "code",
      "source": [
        "plt.scatter(cdf.ENGINESIZE, cdf.CO2EMISSIONS, color = 'blue')\n",
        "plt.xlabel('ENGINESIZE')\n",
        "plt.ylabel('CO2EMISSION')\n",
        "plt.show()"
      ],
      "metadata": {
        "id": "VyjktGQFmAIC"
      },
      "execution_count": null,
      "outputs": []
    },
    {
      "cell_type": "code",
      "source": [
        "# Vẽ biểu đồ thể hiện mối quan hệ giữa CYLINDER với EMISSION\n",
        "plt.scatter(cdf.CYLINDERS, cdf.CO2EMISSIONS, color = 'blue')\n",
        "plt.xlabel('CYLINDERS')\n",
        "plt.ylabel('CO2EMISSION')\n",
        "plt.show()"
      ],
      "metadata": {
        "id": "TvZNB9-7nkX1"
      },
      "execution_count": null,
      "outputs": []
    },
    {
      "cell_type": "markdown",
      "source": [
        "# Tạo tập dữ liệu train và test\n",
        "Train/test Slpit liên quan đến việc chia nhỏ tập dữ liệu thành training set và test set tương ứng loại trừ lẫn nhau( Nghĩa là tập dữ liệu ban đầu được chia thành 2 tập dữ liệu riêng biệt, dữ liệu của tập này không chứa trong tập còn lại.)\n",
        "* Việc kiểm tra viuws test set, điều này sẽ cung cấp đánh giá chính xác hơn vè độ chính xác ngoài mẫu vì tập dữ liệu testing không phải là một phần của tập dữ liệu được sử dụng để huấn luyện dữ liệu. Nó sát với các vấn đề thực tế hơn."
      ],
      "metadata": {
        "id": "BZ1Ik30sn5gm"
      }
    },
    {
      "cell_type": "code",
      "source": [
        "msk = np.random.rand(len(df)) < 0.8\n",
        "train = cdf[msk]\n",
        "test = cdf[~msk]\n",
        "#"
      ],
      "metadata": {
        "id": "xBuycO4rwuf2"
      },
      "execution_count": null,
      "outputs": []
    },
    {
      "cell_type": "code",
      "source": [
        "# Phân phối dữ liệu trong tập huấn luyện\n",
        "plt.scatter(train.ENGINESIZE, train.CO2EMISSIONS, color = 'blue')\n",
        "plt.xlabel('ENGINESIZE')\n",
        "plt.ylabel('CO2EMISSIONS')\n",
        "plt.show()"
      ],
      "metadata": {
        "id": "s4oS8xL5w5RM"
      },
      "execution_count": null,
      "outputs": []
    },
    {
      "cell_type": "code",
      "source": [],
      "metadata": {
        "id": "xplBuGgyxWQU"
      },
      "execution_count": null,
      "outputs": []
    },
    {
      "cell_type": "markdown",
      "source": [
        "# Lập mô hình\n",
        "sử dụng gói sklearn để lập mô hình dữ liệu."
      ],
      "metadata": {
        "id": "IX0fTJhBxX4p"
      }
    },
    {
      "cell_type": "code",
      "source": [
        "from sklearn import linear_model\n",
        "regr = linear_model.LinearRegression()\n",
        "train_x = np.asanyarray(train[['ENGINESIZE']])\n",
        "train_y = np.asanyarray(train[['CO2EMISSIONS']])\n",
        "regr.fit(train_x, train_y)\n",
        "print('Coefficients', regr.coef_)\n",
        "print('Intercept', regr.intercept_)"
      ],
      "metadata": {
        "id": "EKUIQ7iQxfOz"
      },
      "execution_count": null,
      "outputs": []
    },
    {
      "cell_type": "markdown",
      "source": [],
      "metadata": {
        "id": "xYgfiSiYyvdA"
      }
    },
    {
      "cell_type": "code",
      "source": [
        "# Vẽ biểu đồ output\n",
        "plt.scatter(train.ENGINESIZE, train.CO2EMISSIONS, color = 'blue')\n",
        "plt.plot(train_x, regr.coef_[0][0]*train_x + regr.intercept_[0], '-r')\n",
        "plt.xlabel('ENGINESIZE')\n",
        "plt.ylabel('CO2EMISSIONS')\n",
        "plt.show()"
      ],
      "metadata": {
        "id": "dKCRF1iTywSh"
      },
      "execution_count": null,
      "outputs": []
    },
    {
      "cell_type": "code",
      "source": [],
      "metadata": {
        "id": "u7oyRjDP0W8B"
      },
      "execution_count": null,
      "outputs": []
    },
    {
      "cell_type": "code",
      "source": [],
      "metadata": {
        "id": "LVbXeUb0zP4i"
      },
      "execution_count": null,
      "outputs": []
    },
    {
      "cell_type": "markdown",
      "source": [
        "# Đánh giá\n",
        "Chúng ta so sánh giá trị thực tế và giá trị đã dữ đoán để tính độ chính xác của mô hình hồi quy. Các thước đo đánh giá đóng vai trò quan trọng trong việc phát triển một mô hình, vì nó cung cấp cái nhìn sâu sắc về các phương diện cần cải thiện.\n",
        "* Ở đây em sẽ sử dụng giá trị MSE(Mean Square Error) để đánh giá độ chính xác giữa giá trị dự đoán và giá trị thực tế trên tập test.\n"
      ],
      "metadata": {
        "id": "bninPK5mzRWo"
      }
    },
    {
      "cell_type": "code",
      "source": [
        "from sklearn.metrics import r2_score\n",
        "test_x = np.asanyarray(test[['ENGINESIZE']])\n",
        "test_y = np.asanyarray(test[['CO2EMISSIONS']])\n",
        "test_y_hat = regr.predict(test_x)\n",
        "MSE = np.mean((test_y_hat - test_y)**2)\n",
        "r2 = r2_score(test_y_hat, test_y)\n",
        "print('MSE', MSE)\n",
        "print('R2', r2)"
      ],
      "metadata": {
        "id": "MF780dvx0Xim"
      },
      "execution_count": null,
      "outputs": []
    }
  ]
}