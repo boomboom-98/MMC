{
  "nbformat": 4,
  "nbformat_minor": 0,
  "metadata": {
    "colab": {
      "private_outputs": true,
      "provenance": []
    },
    "kernelspec": {
      "name": "python3",
      "display_name": "Python 3"
    },
    "language_info": {
      "name": "python"
    }
  },
  "cells": [
    {
      "cell_type": "code",
      "execution_count": null,
      "metadata": {
        "id": "CUZ9Vco3fvK3"
      },
      "outputs": [],
      "source": [
        "import numpy as np\n",
        "import pandas as pd\n",
        "import matplotlib.pyplot as plt\n",
        "import seaborn as sns; sns.set()"
      ]
    },
    {
      "cell_type": "code",
      "source": [
        "rng = np.random.RandomState(50)\n",
        "x = 10 * rng.rand(50)\n",
        "y = 2 * x - 10 + rng.randn(50)\n",
        "x\n",
        "y\n",
        "plt.scatter(x, y);"
      ],
      "metadata": {
        "id": "RMur1JkiNevq"
      },
      "execution_count": null,
      "outputs": []
    },
    {
      "cell_type": "code",
      "source": [
        "plt.scatter(x,y);\n",
        "plt.plot((0, 10), (-10, 10));\n",
        "plt.plot((0, 10), (0 , 0));\n",
        "plt.plot((0,10), (-10, 7));"
      ],
      "metadata": {
        "id": "LEuvLQdnOM32"
      },
      "execution_count": null,
      "outputs": []
    },
    {
      "cell_type": "code",
      "source": [
        "from sklearn.linear_model import LinearRegression\n",
        "model = LinearRegression(fit_intercept=True) # Khởi tạo mô hình\n",
        "# Training mô hình bằng cách gọi fit\n",
        "# Fit nhận vào data và label để training, cú pháp x[:,np.newaxis] là để reshape lại x từ array sang ma trận\n",
        "model.fit(x[:,np.newaxis], y)\n",
        "\n",
        "xfit = np.array([0 , 1, 2, 3, 4, 5, 6, 7, 8, 9, 10])\n",
        "yfit = model.predict(xfit[:, np.newaxis])\n",
        "yfit\n",
        "plt.scatter(x, y)\n",
        "plt.plot(xfit,yfit);"
      ],
      "metadata": {
        "id": "GdAwCqaRPOCF"
      },
      "execution_count": null,
      "outputs": []
    },
    {
      "cell_type": "code",
      "source": [
        "model.coef_"
      ],
      "metadata": {
        "id": "fZkfyVqcReB2"
      },
      "execution_count": null,
      "outputs": []
    },
    {
      "cell_type": "code",
      "source": [
        "model.intercept_"
      ],
      "metadata": {
        "id": "EnShtXh5Rmig"
      },
      "execution_count": null,
      "outputs": []
    },
    {
      "cell_type": "code",
      "source": [],
      "metadata": {
        "id": "J7g-7hJqUDmA"
      },
      "execution_count": null,
      "outputs": []
    },
    {
      "cell_type": "markdown",
      "source": [
        " # Cài đặt mô hình hồi quy tuyến tính\n",
        "Về nguyên lý, hồi quy đa biến sẽ không khác mấy so với phần trình bày mô hình hồi quy đơn giản. Thế nên ở phần này, chúng ta sẽ thực hiện cài đặt chi tiết mô hình hồi quy tuyến tính để hiểu bản chất của nó, và đồng thời phần này cũng giới thiệu một thuật toán optimization (Tối ưu hàm mất mát - loss function) tên là Gradient Descent"
      ],
      "metadata": {
        "id": "RjQ_ZfQzUDz0"
      }
    },
    {
      "cell_type": "code",
      "source": [
        "from mpl_toolkits.mplot3d import Axes3D\n",
        "rng = np.random.RandomState(1)\n",
        "\"\"\" Tạo ra bộ dữ liệu 100 vector X, mỗi vector có 3 features\n",
        "X1 = [ 1, 2, 3]\n",
        "X2 = [ 3, 4, 5]\n",
        ".....\n",
        "Xn\n",
        "X = [X1, X2, ..., Xn]\n",
        "\"\"\"\n",
        "X = 10* rng.rand(100, 3) # Tạo một ma trận 100 dòng, mỗi dòng 3 cột. Cú pháp rng.rand(100,3) nghĩa là: tạo 100 dòng, mỗi dòng 3 số lấy ngẫu nhiên(số thập phân) trong khoảng từ 0 -> 1. Nhân thêm 10 thì range là từ 0 -> 10,\n",
        "Y = 0.5 + np.dot(X,[2, 3.5, 7]) # tạo 1 vector nhãn theo công thức: Y = 2*X1 + 3.5* X2 + 7*X3 + 0.5, bộ tham số là: W = [0.5, 2, 3.5, 7]\n",
        "\n",
        "# Tạo 3D scatter plot - vẽ các điểm dữ liệu rời rạc\n",
        "fig = plt.figure()\n",
        "ax = fig.add_subplot(111, projection='3d')\n",
        "# Scatter plot - Lấy X theo từng feature\n",
        "ax.scatter(X[:, 0], X[:, 1], X[:, 2], c=Y, cmap='viridis')\n",
        "\n",
        "ax.set_xlabel('X1')\n",
        "ax.set_ylabel('X2')\n",
        "ax.set_zlabel('X3')\n",
        "ax.set_title('Scatter Plot')\n",
        "plt.show()"
      ],
      "metadata": {
        "id": "rfFZZbgYUHr9"
      },
      "execution_count": null,
      "outputs": []
    },
    {
      "cell_type": "code",
      "source": [],
      "metadata": {
        "id": "rGwwYG5yd0e0"
      },
      "execution_count": null,
      "outputs": []
    },
    {
      "cell_type": "markdown",
      "source": [
        "Bước tiếp theo, chúng ta sẽ sử dụng hàm loss MSE function để tính toán độ chênh lệch giữa giá trị dự đoán và giá trị thực tế. Sau đó tiến hành phương pháp gradient descent để cập nhật trọng số( weight) đến một ngưỡng nhất định( < epsilon)"
      ],
      "metadata": {
        "id": "OHQEcZCId5xi"
      }
    },
    {
      "cell_type": "code",
      "source": [
        "# kết hợp x, y thành một list tuples, xem như một dataset với data, label tương ứng\n",
        "trainExample = list(zip(X,Y))\n",
        "trainExample\n",
        "# Khởi tạo hàm biến đổi điểm dữ liệu thành vector( X -> [X, 1])\n",
        "# 1 ở đây là bias - intercept => [X1, X2, X3, 1]\n",
        "def phi(x):\n",
        "  return np.append(x,1)"
      ],
      "metadata": {
        "id": "R0_lBuP-ebck"
      },
      "execution_count": null,
      "outputs": []
    },
    {
      "cell_type": "code",
      "source": [
        "# Khởi tạo ma trận tham số - gọi chung là weight, w = [slope1, slope2, slope3, intercept]\n",
        "def initialWeightVector():\n",
        "  return np.zeros(4) # Trả về 1 vector gồm 4 số 0, [0, 0, 0, 0]"
      ],
      "metadata": {
        "id": "0RAiG5axfUu0"
      },
      "execution_count": null,
      "outputs": []
    },
    {
      "cell_type": "code",
      "source": [
        "# Khởi tạo hàm mất mát theo hàm MSE loss\n",
        "def trainloss(w):\n",
        "  total_loss = 0 # Khởi tạo 1 biến total_loss\n",
        "  for x, y in trainExample:\n",
        "    total_loss += (y - np.dot(phi(x), w))**2\n",
        "  MSE = (1/len(trainExample)) * total_loss\n",
        "  return MSE"
      ],
      "metadata": {
        "id": "Zdj9QmgrfylN"
      },
      "execution_count": null,
      "outputs": []
    },
    {
      "cell_type": "code",
      "source": [
        "#Gradient of loss function\n",
        "def gradientTrainloss(w):\n",
        "  total_gradient = 0\n",
        "  for x, y in trainExample:\n",
        "    total_gradient += (y - np.dot(phi(x), w)) * (-phi(x))\n",
        "  return (1/len(trainExample)) * total_gradient"
      ],
      "metadata": {
        "id": "61fgqFNNgb4J"
      },
      "execution_count": null,
      "outputs": []
    },
    {
      "cell_type": "code",
      "source": [
        "# Gradient descent algorithm\n",
        "def gradientDescent(Loss, gradientTrainLoss, initialWeightVector):\n",
        "  w = initialWeightVector() # Khởi tạo weight\n",
        "  lr = 0.005\n",
        "  for i in range(2500):\n",
        "    value = Loss(w)\n",
        "    gradient = gradientTrainLoss(w)\n",
        "    w = w - lr * gradient\n",
        "    print(f\" epoch {i}: Weight Vector = {w}, Trainloss = {value}, Gradient of trainloss = {gradient}\")\n",
        "  return w"
      ],
      "metadata": {
        "id": "xSrmd8YJ4EAm"
      },
      "execution_count": null,
      "outputs": []
    },
    {
      "cell_type": "code",
      "source": [
        "# Goi hàm gradient để training\n",
        "w = gradientDescent(trainloss, gradientTrainloss, initialWeightVector)"
      ],
      "metadata": {
        "collapsed": true,
        "id": "LsENsvZD5LuP"
      },
      "execution_count": null,
      "outputs": []
    },
    {
      "cell_type": "code",
      "source": [],
      "metadata": {
        "id": "krH9sQ8PCmbw"
      },
      "execution_count": null,
      "outputs": []
    },
    {
      "cell_type": "code",
      "source": [
        "yfit = np.dot(X, w[:-1]) + w[-1]"
      ],
      "metadata": {
        "id": "Ux-Z2SfF9ud6"
      },
      "execution_count": null,
      "outputs": []
    },
    {
      "cell_type": "code",
      "source": [
        "y_predict = np.dot([2,3,4], w[:-1]) + w[-1]\n",
        "y_predict"
      ],
      "metadata": {
        "id": "CGAbHRTlGXBJ"
      },
      "execution_count": null,
      "outputs": []
    },
    {
      "cell_type": "code",
      "source": [
        "# Tạo một meshgrid cho 3D plot\n",
        "x1_range = np.linspace(0, 10, 30)\n",
        "x2_range = np.linspace(0, 10, 30)\n",
        "x1_mesh, x2_mesh = np.meshgrid(x1_range, x2_range)\n",
        "x3_mesh = (0.5 - w[0] * x1_mesh - w[1] * x2_mesh - w[3]) / w[2]\n",
        "\n",
        "# Hiển thị scatter các điểm dữ liệu\n",
        "fig = plt.figure()\n",
        "ax = fig.add_subplot(111, projection='3d')\n",
        "ax.scatter(X[:, 0], X[:, 1], X[:, 2], c=Y, cmap='viridis', label='Data Points')\n",
        "\n",
        "# Plot, hiển thị mặt phẳng model đã tìm được\n",
        "\n",
        "ax.plot_surface(x1_mesh, x2_mesh, x3_mesh, alpha=0.5, cmap='plasma', label='Model')\n",
        "\n",
        "ax.set_xlabel('X1')\n",
        "ax.set_ylabel('X2')\n",
        "ax.set_zlabel('X3')\n",
        "ax.set_title('3D Scatter Plot with Fitted Model')\n",
        "\n",
        "plt.show()"
      ],
      "metadata": {
        "id": "AOqewD4K_iwT"
      },
      "execution_count": null,
      "outputs": []
    }
  ]
}